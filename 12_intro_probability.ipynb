{
 "cells": [
  {
   "cell_type": "markdown",
   "metadata": {
    "slideshow": {
     "slide_type": "slide"
    }
   },
   "source": [
    "# ICS 434: DATA SCIENCE FUNDAMENTALS\n",
    "\n",
    "## Introduction to Probability\n",
    "---"
   ]
  },
  {
   "cell_type": "markdown",
   "metadata": {
    "slideshow": {
     "slide_type": "slide"
    }
   },
   "source": [
    "## Announcements\n",
    "\n",
    "* Homework assignment 1\n",
    "   * Due on **Tuesday, February 14, 11:59 PM**\n",
    "   * Refer to the `Homework submission guidelines` announcement in Laulima for preparing and submitting your homework.\n",
    "   \n",
    "\n",
    "* Use Slack channel for questions and discussion on topics relevant to the course material.\n",
    "  * Be sure to read the `Policy for using class slack workspace` announcement in Laulima.\n"
   ]
  },
  {
   "cell_type": "markdown",
   "metadata": {
    "slideshow": {
     "slide_type": "slide"
    }
   },
   "source": [
    "## Slide Credits\n",
    "\n",
    "Most of these slides were taken from Mahdi Belcaid."
   ]
  },
  {
   "cell_type": "code",
   "execution_count": 1,
   "metadata": {
    "slideshow": {
     "slide_type": "skip"
    }
   },
   "outputs": [],
   "source": [
    "import numpy as np\n",
    "import matplotlib.pyplot as plt\n",
    "import random\n",
    "\n",
    "random.seed(123)"
   ]
  },
  {
   "cell_type": "markdown",
   "metadata": {
    "slideshow": {
     "slide_type": "slide"
    }
   },
   "source": [
    "###  What Place Do Probability and Statistics Occupy in Data Science?\n",
    "\n",
    "\n",
    "\n",
    "```\n",
    "\"A Data scientist is someone who knows more statistics than a computer scientist and more computer science than a statistician.\"\n",
    "                                           - Joshua Blumenstock\n",
    "```\n",
    "\n",
    "- https://didl.berkeley.edu/"
   ]
  },
  {
   "cell_type": "markdown",
   "metadata": {
    "slideshow": {
     "slide_type": "skip"
    }
   },
   "source": [
    "### Sample Work in Science\n",
    "\n",
    "<img src=\"https://www.dropbox.com/s/vyk19m5tyy7pf9j/Blumenstock.png?dl=1\" alt=\"drawing\" style=\"width:500px;\"/>\n",
    "\n"
   ]
  },
  {
   "cell_type": "markdown",
   "metadata": {
    "slideshow": {
     "slide_type": "slide"
    }
   },
   "source": [
    "### Probability Examples in Data Science: A/B Testing\n",
    "\n",
    "\n",
    "* Comparing two versions of a web page to see which one is best for a specific task\n",
    "  * Ex. Customer conversion, i.e., converting a customer who browses your site to a paying customer\n",
    "\n",
    "<img src=\"images/what-ab-test.png?dl=1\" alt=\"drawing\" style=\"width:600px\">"
   ]
  },
  {
   "cell_type": "markdown",
   "metadata": {
    "slideshow": {
     "slide_type": "slide"
    }
   },
   "source": [
    "### A/B Testing at the Heart of Decision\n",
    "\n",
    "* ```\n",
    "\"Five different “A/B” tests in the RNC report — in which Trump’s digital team changed one element of a page and then showed the different versions to website visitors simultaneously, to see which version performed better — showed that Trump’s website generated more online revenue per visitor when it used pictures of Trump giving two thumbs up next to fundraising asks, as opposed to other pictures.\"\n",
    "```\n",
    "\n",
    "* ```\n",
    "\"The report estimates that the testing program run by the RNC’s Performance Optimization and Experiments Team — POET for short — brought in over $30 million extra to the Trump campaign by boosting its digital engagement and fundraising.\"\n",
    "```\n",
    "\n",
    "Source: https://www.politico.com/story/2017/02/trump-thumbs-up-fundraising-strategy-234839"
   ]
  },
  {
   "cell_type": "markdown",
   "metadata": {
    "slideshow": {
     "slide_type": "slide"
    }
   },
   "source": [
    "### Experiment\n",
    "\n",
    "* An `experiment` is a procedure or `random process` that yields one outcome out of all possible outcomes of the experiment\n",
    "\n",
    "* Some examples of experiments are:\n",
    "  * Tossing a coin and observing the outcome\n",
    "  * Rolling a die and observing the outcome\n",
    "  * Counting the number of empty slots in a Biki stand\n",
    "  * Measuring the weight of a patient in a hospital "
   ]
  },
  {
   "cell_type": "markdown",
   "metadata": {
    "slideshow": {
     "slide_type": "skip"
    }
   },
   "source": [
    "### Sample Space\n",
    "\n",
    "* `Sample Space` **S** is the exhaustive set of all possible, disjoint outcomes of an experiment \n",
    "\n",
    "  * When rolling a die, it's the finite set {1, 2, 3, 4, 5, 6}\n",
    "  * The number of HTTP requests received by an Amazon.com load balancer each hour\n",
    "   * 0-X, where X is the maximum number of requests the server can handle without crashing \n",
    "     * Echo server can handle 350k * 3600 requests/hour\n",
    "  * When weighing patients in a hospital, it's the continuous infinite set [0, Y] pounds.\n",
    "    * Infinite number of values in between\n"
   ]
  },
  {
   "cell_type": "markdown",
   "metadata": {
    "slideshow": {
     "slide_type": "slide"
    }
   },
   "source": [
    "### Sample Space\n",
    "\n",
    "* `Sample Space` **S** is the exhaustive set of all possible, disjoint outcomes of an experiment \n",
    "\n",
    "  * When rolling a die, it's the finite set {1, 2, 3, 4, 5, 6}\n",
    "  \n",
    "  * The number of HTTP requests received by an Amazon.com load balancer each hour\n",
    "    * 0-X, where X is the maximum number of requests the server can handle without crashing \n",
    "   \n",
    "  * When weighing patients in a hospital, it's the continuous infinite set [0, Y] pounds.\n",
    "    * Infinite number of values in between\n"
   ]
  },
  {
   "cell_type": "markdown",
   "metadata": {
    "slideshow": {
     "slide_type": "slide"
    }
   },
   "source": [
    "### Event \n",
    "\n",
    "- In an experiment, an `event` **E** represents a __subset__ of the sample space \n",
    "\n",
    "  - The die lands 4  \n",
    "  \n",
    "  - The die lands on its odd side (1, 3, or 5)\n",
    "  \n",
    "  - The number of empty Biki slots is 0 \n",
    "  \n",
    "  - The weight of a patient is higher than 140 pounds but less than 200 pounds"
   ]
  },
  {
   "cell_type": "markdown",
   "metadata": {
    "slideshow": {
     "slide_type": "slide"
    }
   },
   "source": [
    "### Probability\n",
    "\n",
    "\n",
    "* Probabilities quantify beliefs\n",
    "\n",
    "* Used to measure the uncertainty of an event \n",
    "\n",
    "* Ex:\n",
    "  * How likely is a given person to default on a loan?\n",
    "  * How unlikely is a given person to donate to a fundraising campaign?\n",
    "  * How likely is a person to contract the flu this season?\n",
    "  * How likely is that all the biki slots at the intersection of University Ave. and S. King St. will be full?\n",
    "\n",
    "\n",
    "* Intuitively, we talk of a:\n",
    "\n",
    "  * `null` (0) probability when we know an event cannot occur\n",
    "  * probability of 1 if an event is certain"
   ]
  },
  {
   "cell_type": "markdown",
   "metadata": {
    "slideshow": {
     "slide_type": "skip"
    }
   },
   "source": [
    "### Probability -- Cont'd\n",
    "\n",
    "* Formally, a probability value is a number that quantifies the likelihood of an event and which satisfies the following two properties:\n",
    " \n",
    " $~~~~~~~~~~~~~~0 \\leq p(E) \\leq 1$$~~~~~~~~\\text{and}~~~~~~~~ \\sum\\limits_{o \\in \\mathbf{S}}{p(o) = 1}$\n",
    "\n",
    "  * Note that this is not a definition of probability (three axioms)\n",
    "\n",
    "* A number that is between 0 and 1 is not necessarily a probability unless the sum of all outcomes in the sample space is 1\n",
    "\n",
    "* In data analysis, you will most likely assign probabilities to events using probability distributions\n",
    "  * A probability distribution is a function that gives the probabilities of occurrence of all the events in the sample space"
   ]
  },
  {
   "cell_type": "markdown",
   "metadata": {
    "slideshow": {
     "slide_type": "slide"
    }
   },
   "source": [
    "### Probability -- Cont'd\n",
    "\n",
    "* Formally, a probability value is a number that quantifies the likelihood of an event and which satisfies the following two properties:\n",
    " \n",
    " $$ 0 \\leq p(E) \\leq 1 \\quad \\text{and} \\quad \\sum\\limits_{o \\in \\mathbf{S}}{p(o) = 1}$$\n",
    "\n",
    "* A number that is between 0 and 1 is not necessarily a probability unless the sum of all outcomes in the sample space is 1\n",
    "\n",
    "* In data analysis, you will most likely assign probabilities to events using probability distributions\n",
    "  * A probability distribution is a function that gives the probabilities of occurrence of all the events in the sample space"
   ]
  },
  {
   "cell_type": "markdown",
   "metadata": {},
   "source": [
    "### Random Sample\n",
    "A subset $S$ or $ (S \\in P) $ is a random sample if each element $x$ in $P$ has a non-zero probability of being selected."
   ]
  },
  {
   "cell_type": "markdown",
   "metadata": {},
   "source": [
    "### Random Sample - Cont'd\n",
    "* Randomness: Each member of the population is chosen randomly, meaning every individual has the same probability of being selected. This is often achieved using random number generators or other methods that ensured unbiased results.\n",
    "* Independece: The selection of one individual or item in the sample does not influence the selection of another. In other words, each selection is an independent event."
   ]
  },
  {
   "cell_type": "markdown",
   "metadata": {
    "slideshow": {
     "slide_type": "slide"
    }
   },
   "source": [
    "### Long Run Frequencies of  an Event\n",
    "\n",
    "\n",
    "- The concept of long-run is an essential aspect of probability \n",
    "\n",
    "  - In a casino game where your chances of winning are 1 in 10, you are not guaranteed to win if you participate ten times\n",
    "\n",
    "- When flipping a coin - assuming the coin is unbiased - we would intuitively expect to observe `in the long run` as many heads as tails, or about 50% heads and 50% tails\n",
    "\n",
    "  - The probabilities of heads and tails are $p(H)=0.5$ and $p(T)=0.5$ respectively \n",
    "  \n",
    "- We can prove this computationally by generating heads (ones) and tails (zeros) using the `Python` `random` module"
   ]
  },
  {
   "cell_type": "markdown",
   "metadata": {
    "slideshow": {
     "slide_type": "slide"
    }
   },
   "source": [
    "### Recall: The Random Module\n",
    "\n",
    "* Implements a large number of helpful functions that use randomness\n",
    "\n",
    " *  Shuffling, sampling, selecting element(s) from a list, etc.\n",
    "\n",
    "```python\n",
    ">>> print(random.choice([0, 1]))\n",
    "0\n",
    ">>> print(random.choice([0, 1]))\n",
    "1\n",
    ">>>  print(random.choice([0, 1]))\n",
    "0\n",
    "```"
   ]
  },
  {
   "cell_type": "code",
   "execution_count": 10,
   "metadata": {},
   "outputs": [],
   "source": [
    "import random\n",
    "\n",
    "random_trials = [random.choice([0, 1]) for _ in range(1000)]"
   ]
  },
  {
   "cell_type": "markdown",
   "metadata": {
    "slideshow": {
     "slide_type": "skip"
    }
   },
   "source": [
    "### Inspecting the Number of Accumulated Heads \n",
    "\n",
    "* The progression of the number of heads after each iteration can be obtained using the cumulative sum (or `cumsum`)\n",
    "\n",
    "* The cumulative sum for an element at position $a$, where $a \\geq 1$ of an array $X$ is:$~~\\sum_{i=0}^a X[i]$\n",
    "\n",
    "* The `cumsum()` function is available through the package `numpy` \n",
    "\n",
    "  * More on `numpy` later"
   ]
  },
  {
   "cell_type": "markdown",
   "metadata": {
    "slideshow": {
     "slide_type": "slide"
    }
   },
   "source": [
    "### Inspecting the Number of Accumulated Heads \n",
    "\n",
    "* The progression of the number of heads after each iteration can be obtained using the cumulative sum (or `cumsum`)\n",
    "\n",
    "* The cumulative sum for an element at position $a$, where $a \\geq 1$ of an array $X$ is:$~~\\sum_{i=0}^a X[i]$\n",
    "\n",
    "* The `cumsum()` function is available through the package `numpy` "
   ]
  },
  {
   "cell_type": "code",
   "execution_count": 12,
   "metadata": {
    "slideshow": {
     "slide_type": "slide"
    }
   },
   "outputs": [
    {
     "name": "stdout",
     "output_type": "stream",
     "text": [
      "------------------------------\n",
      "[0, 1, 0, 0, 0, 1, 1, 0, 0, 0]\n",
      "------------------------------\n",
      "[0, 1, 1, 1, 1, 2, 3, 3, 3, 3]\n"
     ]
    }
   ],
   "source": [
    "import numpy as np\n",
    "\n",
    "cum_sum_random_trials = np.cumsum(random_trials)\n",
    "    \n",
    "print(\"-\" * 30)\n",
    "print(random_trials[0:10])\n",
    "\n",
    "print(\"-\" * 30)\n",
    "print(list(cum_sum_random_trials[0:10]))"
   ]
  },
  {
   "cell_type": "code",
   "execution_count": 13,
   "metadata": {
    "slideshow": {
     "slide_type": "slide"
    }
   },
   "outputs": [
    {
     "name": "stdout",
     "output_type": "stream",
     "text": [
      "=====================\n",
      "[0, 1, 0, 0, 0, 1]\n",
      "---------------------\n",
      "[0, 1, 1, 1, 1, 2]\n",
      "---------------------\n",
      "[0.0, 0.5, 0.3333333333333333, 0.25, 0.2, 0.3333333333333333]\n",
      "=====================\n"
     ]
    }
   ],
   "source": [
    "# Let's normalize `cum_sum_random_trials` by the number of trials in each position\n",
    "\n",
    "cumulative_prop_heads = cum_sum_random_trials / range(1, len(cum_sum_random_trials)+1)\n",
    "\n",
    "print(\"=====================\")\n",
    "print(random_trials[0:6])\n",
    "print(\"---------------------\")\n",
    "print(list(cum_sum_random_trials[0:6]))\n",
    "print(\"---------------------\")\n",
    "print(list(cumulative_prop_heads[0:6]))\n",
    "print(\"=====================\")"
   ]
  },
  {
   "cell_type": "code",
   "execution_count": 5,
   "metadata": {
    "slideshow": {
     "slide_type": "slide"
    }
   },
   "outputs": [
    {
     "data": {
      "image/png": "[encoded data removed]",
      "text/plain": [
       "<Figure size 800x400 with 1 Axes>"
      ]
     },
     "metadata": {},
     "output_type": "display_data"
    }
   ],
   "source": [
    "import matplotlib.pyplot as plt\n",
    "\n",
    "plt.figure(figsize=(8, 4))\n",
    "plt.plot(range(100), cumulative_prop_heads[0:100])\n",
    "plt.axhline(0.5, color='k', linestyle='--', alpha=0.3);"
   ]
  },
  {
   "cell_type": "code",
   "execution_count": 6,
   "metadata": {
    "slideshow": {
     "slide_type": "slide"
    }
   },
   "outputs": [
    {
     "data": {
      "image/png": "[encoded data removed]",
      "text/plain": [
       "<Figure size 1200x400 with 1 Axes>"
      ]
     },
     "metadata": {},
     "output_type": "display_data"
    }
   ],
   "source": [
    "plt.figure(figsize=(12, 4))\n",
    "plt.plot(range(len(cumulative_prop_heads)), cumulative_prop_heads)\n",
    "plt.axhline(0.5, color='k', linestyle='--', alpha=0.3);"
   ]
  },
  {
   "cell_type": "code",
   "execution_count": 7,
   "metadata": {
    "slideshow": {
     "slide_type": "slide"
    }
   },
   "outputs": [
    {
     "data": {
      "image/png": "[encoded data removed]",
      "text/plain": [
       "<Figure size 1200x400 with 1 Axes>"
      ]
     },
     "metadata": {},
     "output_type": "display_data"
    }
   ],
   "source": [
    "plt.figure(figsize=(12, 4))\n",
    "plt.plot(range(len(cumulative_prop_heads)), cumulative_prop_heads)\n",
    "plt.axhline(0.5, color='k', linestyle='--', alpha=0.3);\n",
    "plt.ylim(0.45, 0.55);"
   ]
  },
  {
   "cell_type": "markdown",
   "metadata": {
    "slideshow": {
     "slide_type": "slide"
    }
   },
   "source": [
    "### Long-Run Frequency\n",
    "\n",
    "* Even after 1,000 draws, the proportion of heads is not exactly 0.5\n",
    "  * A run of 1,000 samples is still just a random sample, and there is no guarantee that the relative frequency in the random sample will match the underlying probability of the event. \n",
    "\n",
    "* However, in the \"much longer run,\" the frequency will tend to approximate $p(H)$ and $p(T)$\n"
   ]
  },
  {
   "cell_type": "code",
   "execution_count": 8,
   "metadata": {
    "slideshow": {
     "slide_type": "slide"
    }
   },
   "outputs": [
    {
     "data": {
      "image/png": "[encoded data removed]",
      "text/plain": [
       "<Figure size 1200x400 with 1 Axes>"
      ]
     },
     "metadata": {},
     "output_type": "display_data"
    }
   ],
   "source": [
    "random_trials = [random.choice([0, 1]) for _ in range(500_000)]\n",
    "\n",
    "cum_sum_random_trials = np.cumsum(random_trials)\n",
    "cumulative_prop_heads = cum_sum_random_trials / range(1, len(cum_sum_random_trials)+1)\n",
    "\n",
    "plt.figure(figsize=(12, 4))\n",
    "plt.plot(range(len(cumulative_prop_heads)), cumulative_prop_heads)\n",
    "plt.axhline(0.5, color='k', linestyle='--', alpha=0.3);"
   ]
  },
  {
   "cell_type": "code",
   "execution_count": 9,
   "metadata": {
    "slideshow": {
     "slide_type": "slide"
    }
   },
   "outputs": [
    {
     "data": {
      "image/png": "[encoded data removed]",
      "text/plain": [
       "<Figure size 1200x400 with 1 Axes>"
      ]
     },
     "metadata": {},
     "output_type": "display_data"
    }
   ],
   "source": [
    "plt.figure(figsize=(12, 4))\n",
    "plt.plot(range(len(cumulative_prop_heads)), cumulative_prop_heads)\n",
    "plt.axhline(0.5, color='k', linestyle='--', alpha=0.3);\n",
    "plt.ylim(0.45, 0.55);"
   ]
  },
  {
   "cell_type": "markdown",
   "metadata": {
    "collapsed": true,
    "slideshow": {
     "slide_type": "slide"
    }
   },
   "source": [
    "### Probability versus Statistics\n",
    "\n",
    "* Probability is a theoretical branch of mathematics, while statistics is applied  mathematics trying to make sense of real-world observations\n",
    "\n",
    "* The following is useful although perhaps simplistic distinction between probability and statistics\n",
    "\n",
    "  * Probability deals with predicting the likelihood of future events, while statistics analyzes the frequency of past events\n",
    "  \n",
    "    <img src=\"images/proba_stats_1.png?dl=1\" alt=\"drawing\" style=\"width:400px\">"
   ]
  },
  {
   "cell_type": "markdown",
   "metadata": {
    "collapsed": true,
    "slideshow": {
     "slide_type": "slide"
    }
   },
   "source": [
    "### The Underlying Generative Process\n",
    "\n",
    "- Populations are dynamic. How are new members generated?\n",
    "\n",
    "- The generative process summarizes the population as it describes how new members can be \"realized\"\n",
    "\n",
    "    <img src=\"images/proba_stats_2.png?dl=1\" alt=\"drawing\" style=\"width:500px\">"
   ]
  },
  {
   "cell_type": "markdown",
   "metadata": {
    "slideshow": {
     "slide_type": "skip"
    }
   },
   "source": [
    "### Using Simulation to Infer a Statistic for Generative Process\n",
    "\n",
    "* It's often challenging to mathematically derive event(s) probability(ies).\n",
    "  * May involve conditional and hierarchical dependencies.\n",
    "    * Flip a coin, select a die accordingly, then select a distribution, etc... \n",
    "* Often, it is much simpler to simulate the problem a large number of times to derive the desired probabilities.\n",
    " * Challenge with simulation: we need to know that we converged toward the correct solution.\n",
    "   * We cannot flip a coin 10 times and accept the resulting probability.\n",
    "   * How do we know we converged onto the correct solution?\n",
    " \n",
    "*  Example: Solving the Monty Hall Problem \n",
    " * A problem based on television game show `Let's Make a Deal`\n",
    " * Named after the show's original host, Monty Hall"
   ]
  },
  {
   "cell_type": "markdown",
   "metadata": {
    "slideshow": {
     "slide_type": "slide"
    }
   },
   "source": [
    "### Using Simulation to Infer a Statistic for Generative Process\n",
    "\n",
    "* It's often challenging to mathematically derive event(s) probability(ies).\n",
    "  * May involve conditional and hierarchical dependencies.\n",
    "    * Flip a coin, select a die accordingly, then select a distribution, etc... \n",
    "* Often, it is much simpler to simulate the problem a large number of times to derive the desired probabilities.\n",
    " * Challenge with simulation: we need to know that we converged toward the correct solution.\n",
    "   * We cannot flip a coin 10 times and accept the resulting probability.\n",
    " \n",
    "*  Example: Solving the Monty Hall Problem \n",
    " * A problem based on television game show `Let's Make a Deal`\n",
    " * Named after the show's original host, Monty Hall"
   ]
  },
  {
   "cell_type": "markdown",
   "metadata": {
    "slideshow": {
     "slide_type": "slide"
    }
   },
   "source": [
    "### The Monty Hall Problem\n",
    " \n",
    "```\n",
    "Suppose you're on a game show, and you're given the choice of three doors. Behind one door is a car and behind the others, goats. You pick a door (you don't open it yet), say No. 1, and the host, who knows what's behind the doors, opens another door, say No. 3, which has a goat. He then says to you, \"Do you want to change to selection?\" \n",
    "\n",
    "Is it to your advantage to switch your initial choice?\n",
    "```\n",
    "\n",
    "<center><img src=\"images/monty_hall_2.png?dl=1\" alt=\"drawing\" style=\"width:500px\"></center>"
   ]
  },
  {
   "cell_type": "markdown",
   "metadata": {
    "slideshow": {
     "slide_type": "slide"
    }
   },
   "source": [
    "<center><img src=\"images/monty_hall.jpeg?dl=1\" alt=\"drawing\" style=\"width:600px\"/></center>"
   ]
  },
  {
   "cell_type": "markdown",
   "metadata": {
    "slideshow": {
     "slide_type": "slide"
    }
   },
   "source": [
    "### Simulate the Problem\n",
    "\n",
    "* Question: Is it to your advantage to switch your choice?\n",
    " \n",
    "  * We can easily simulate the problem and answer the question using the following approach\n",
    "\n",
    "  1. Pick a door at random\n",
    "\n",
    "  2. Reveal a door that has a goat\n",
    "\n",
    "  3. Choose a strategy\n",
    "\n",
    "    3.1 Stick with the initial choice\n",
    "  \n",
    "    or\n",
    "    \n",
    "    3.2 Switch our choice and pick the other door\n",
    "\n",
    "\n",
    "* Repeat the process few thousand times and evaluate whether 3.1 is a better strategy than 3.2\n"
   ]
  },
  {
   "cell_type": "code",
   "execution_count": 10,
   "metadata": {
    "slideshow": {
     "slide_type": "slide"
    }
   },
   "outputs": [
    {
     "name": "stdout",
     "output_type": "stream",
     "text": [
      "['GOAT' 'CAR' 'GOAT']\n"
     ]
    }
   ],
   "source": [
    "doors = np.array([\"GOAT\", \"CAR\", \"GOAT\"])\n",
    "random.shuffle(doors)\n",
    "print(doors)"
   ]
  },
  {
   "cell_type": "code",
   "execution_count": 11,
   "metadata": {
    "slideshow": {
     "slide_type": "-"
    }
   },
   "outputs": [
    {
     "data": {
      "text/plain": [
       "0"
      ]
     },
     "execution_count": 11,
     "metadata": {},
     "output_type": "execute_result"
    }
   ],
   "source": [
    "my_pick = random.choice([0, 1, 2])\n",
    "my_pick"
   ]
  },
  {
   "cell_type": "code",
   "execution_count": 12,
   "metadata": {
    "slideshow": {
     "slide_type": "skip"
    }
   },
   "outputs": [
    {
     "data": {
      "text/plain": [
       "{1, 2}"
      ]
     },
     "execution_count": 12,
     "metadata": {},
     "output_type": "execute_result"
    }
   ],
   "source": [
    "set([0, 1, 2]).difference([my_pick])"
   ]
  },
  {
   "cell_type": "code",
   "execution_count": 13,
   "metadata": {
    "slideshow": {
     "slide_type": "-"
    }
   },
   "outputs": [
    {
     "data": {
      "text/plain": [
       "[1, 2]"
      ]
     },
     "execution_count": 13,
     "metadata": {},
     "output_type": "execute_result"
    }
   ],
   "source": [
    "remaining_doors = list(set([0, 1, 2]).difference([my_pick]))\n",
    "remaining_doors"
   ]
  },
  {
   "cell_type": "code",
   "execution_count": 14,
   "metadata": {
    "slideshow": {
     "slide_type": "-"
    }
   },
   "outputs": [
    {
     "name": "stdout",
     "output_type": "stream",
     "text": [
      "['CAR' 'GOAT']\n"
     ]
    }
   ],
   "source": [
    "print(doors[remaining_doors])"
   ]
  },
  {
   "cell_type": "code",
   "execution_count": 15,
   "metadata": {
    "slideshow": {
     "slide_type": "skip"
    }
   },
   "outputs": [
    {
     "data": {
      "text/plain": [
       "1"
      ]
     },
     "execution_count": 15,
     "metadata": {},
     "output_type": "execute_result"
    }
   ],
   "source": [
    "# which of the remain doors should we reveal\n",
    "\n",
    "np.where(doors[remaining_doors] == \"GOAT\")[0][0]"
   ]
  },
  {
   "cell_type": "code",
   "execution_count": 16,
   "metadata": {
    "slideshow": {
     "slide_type": "slide"
    }
   },
   "outputs": [
    {
     "data": {
      "text/plain": [
       "2"
      ]
     },
     "execution_count": 16,
     "metadata": {},
     "output_type": "execute_result"
    }
   ],
   "source": [
    "# which of the remain doors should we reveal\n",
    "from itertools import compress\n",
    "\n",
    "random.choice(list(compress(remaining_doors, doors[remaining_doors] == \"GOAT\")))"
   ]
  },
  {
   "cell_type": "code",
   "execution_count": 17,
   "metadata": {
    "slideshow": {
     "slide_type": "-"
    }
   },
   "outputs": [
    {
     "data": {
      "text/plain": [
       "False"
      ]
     },
     "execution_count": 17,
     "metadata": {},
     "output_type": "execute_result"
    }
   ],
   "source": [
    "doors[my_pick] == \"CAR\""
   ]
  },
  {
   "cell_type": "code",
   "execution_count": 18,
   "metadata": {
    "slideshow": {
     "slide_type": "skip"
    }
   },
   "outputs": [],
   "source": [
    "def monty_hall(n=10000, switch=False):\n",
    "    nb_wins = 0 \n",
    "    doors = np.array([\"GOAT\", \"CAR\", \"GOAT\"])\n",
    "    for _ in range(n):\n",
    "        random.shuffle(doors)\n",
    "        my_pick = random.choice([0, 1, 2])\n",
    "        remaining_doors = list(set([0, 1, 2]).difference([my_pick]))\n",
    "        reveal_door = np.where(doors[remaining_doors] == \"GOAT\")[0][0]\n",
    "        if switch:\n",
    "            my_pick = list(set([0, 1, 2]).difference([my_pick, reveal_door]))[0]\n",
    "        if doors[my_pick] == \"CAR\":\n",
    "            nb_wins += 1\n",
    "    return nb_wins"
   ]
  },
  {
   "cell_type": "code",
   "execution_count": 19,
   "metadata": {
    "slideshow": {
     "slide_type": "slide"
    }
   },
   "outputs": [],
   "source": [
    "from itertools import compress\n",
    "\n",
    "def monty_hall(n=10000, switch=False):\n",
    "    nb_wins = 0 \n",
    "    doors = np.array([\"GOAT\", \"CAR\", \"GOAT\"])\n",
    "    for _ in range(n):\n",
    "        random.shuffle(doors)\n",
    "        my_pick = random.choice([0, 1, 2])\n",
    "        remaining_doors = list(set([0, 1, 2]).difference([my_pick]))\n",
    "        goat_doors = list(compress(remaining_doors, doors[remaining_doors] == \"GOAT\"))\n",
    "        reveal_door = random.choice(goat_doors)\n",
    "\n",
    "        if switch:\n",
    "            my_pick = list(set([0, 1, 2]).difference([my_pick, reveal_door]))[0]\n",
    "        if doors[my_pick] == \"CAR\":\n",
    "            nb_wins += 1\n",
    "    return nb_wins"
   ]
  },
  {
   "cell_type": "code",
   "execution_count": 20,
   "metadata": {
    "slideshow": {
     "slide_type": "-"
    }
   },
   "outputs": [
    {
     "data": {
      "text/plain": [
       "66559"
      ]
     },
     "execution_count": 20,
     "metadata": {},
     "output_type": "execute_result"
    }
   ],
   "source": [
    "monty_hall(n=100_000, switch=True)"
   ]
  },
  {
   "cell_type": "code",
   "execution_count": 21,
   "metadata": {
    "slideshow": {
     "slide_type": "-"
    }
   },
   "outputs": [
    {
     "data": {
      "text/plain": [
       "33326"
      ]
     },
     "execution_count": 21,
     "metadata": {},
     "output_type": "execute_result"
    }
   ],
   "source": [
    "monty_hall(n=100_000, switch=False)"
   ]
  },
  {
   "cell_type": "markdown",
   "metadata": {
    "slideshow": {
     "slide_type": "skip"
    }
   },
   "source": [
    "### Which Strategy is Better?\n",
    "\n",
    "\n",
    "* The above does not directly tell us which strategy is better\n",
    "\n",
    "  * It simply shows that out of 1,000 experiments, we won in $nw_1$ by switching and in $nw_2$ by keeping the original selection\n",
    "  * It shows that in the simulation, $nw_1 > nw_2$\n",
    "  \n",
    "* Is this always the case?\n",
    "  * How often will we expect the \"Switch\" strategy to be better?\n",
    "  \n",
    "* What is the probability of $nw_1 > nw_2$?\n",
    "  * I.e. in the long run, how often should we expect $nw_1 > nw_2$?\n",
    "  "
   ]
  },
  {
   "cell_type": "code",
   "execution_count": 22,
   "metadata": {
    "slideshow": {
     "slide_type": "skip"
    }
   },
   "outputs": [],
   "source": [
    "def compare_strategy(n=1_000):\n",
    "    nb_better_occurr = 0\n",
    "    for i in range(n):\n",
    "        if monty_hall(1, switch=True) >= monty_hall(1, switch=False):\n",
    "            nb_better_occurr += 1 \n",
    "    return(nb_better_occurr / n)"
   ]
  },
  {
   "cell_type": "code",
   "execution_count": 23,
   "metadata": {
    "slideshow": {
     "slide_type": "skip"
    }
   },
   "outputs": [
    {
     "data": {
      "text/plain": [
       "0.878"
      ]
     },
     "execution_count": 23,
     "metadata": {},
     "output_type": "execute_result"
    }
   ],
   "source": [
    "compare_strategy()"
   ]
  },
  {
   "cell_type": "code",
   "execution_count": 24,
   "metadata": {
    "slideshow": {
     "slide_type": "skip"
    }
   },
   "outputs": [
    {
     "data": {
      "text/plain": [
       "0.892"
      ]
     },
     "execution_count": 24,
     "metadata": {},
     "output_type": "execute_result"
    }
   ],
   "source": [
    "compare_strategy()"
   ]
  },
  {
   "cell_type": "code",
   "execution_count": 25,
   "metadata": {
    "slideshow": {
     "slide_type": "skip"
    }
   },
   "outputs": [
    {
     "data": {
      "text/plain": [
       "[0.886, 0.893, 0.886, 0.891, 0.868, 0.896, 0.91, 0.9, 0.864, 0.892]"
      ]
     },
     "execution_count": 25,
     "metadata": {},
     "output_type": "execute_result"
    }
   ],
   "source": [
    "nb_trials = 500\n",
    "trials_results = []\n",
    "for _ in range(nb_trials):\n",
    "    trials_results.append(compare_strategy())\n",
    " \n",
    "trials_results[0:10]"
   ]
  },
  {
   "cell_type": "code",
   "execution_count": 26,
   "metadata": {
    "slideshow": {
     "slide_type": "skip"
    }
   },
   "outputs": [
    {
     "data": {
      "text/plain": [
       "[672, 675, 675, 684, 658, 659, 651, 677, 652, 675]"
      ]
     },
     "execution_count": 26,
     "metadata": {},
     "output_type": "execute_result"
    }
   ],
   "source": [
    "nb_trials = 500\n",
    "trials_results = []\n",
    "for _ in range(nb_trials):\n",
    "    trials_results.append(monty_hall(n=1000, switch=True))\n",
    " \n",
    "trials_results[0:10]"
   ]
  },
  {
   "cell_type": "code",
   "execution_count": 27,
   "metadata": {
    "slideshow": {
     "slide_type": "skip"
    }
   },
   "outputs": [
    {
     "data": {
      "image/png": "[encoded data removed]",
      "text/plain": [
       "<Figure size 640x480 with 1 Axes>"
      ]
     },
     "metadata": {},
     "output_type": "display_data"
    }
   ],
   "source": [
    "_ = plt.hist(trials_results, edgecolor='black', linewidth=1.2)"
   ]
  },
  {
   "cell_type": "markdown",
   "metadata": {
    "slideshow": {
     "slide_type": "slide"
    }
   },
   "source": [
    "### Working with Non-Uniform Probabilities\n",
    "\n",
    "* Easy to simulate problems with uniform probabilities\n",
    "\n",
    "  * We know how to generate events for an experiment whose sample space is uniformly distributed \n",
    "\n",
    "    * Use `random.choice` and pass it a list representing the sample space\n",
    "    \n",
    "* What about non-uniform probabilities?"
   ]
  },
  {
   "cell_type": "markdown",
   "metadata": {
    "slideshow": {
     "slide_type": "slide"
    }
   },
   "source": [
    "### Working with Non-Uniform Probabilities -- An Example\n",
    "\n",
    "* You are the CEO of your startup and you are preparing for a funding round for your new software\n",
    "\n",
    "* You want to show that users like some newly added functionality\n",
    "  * Testing results on 30 users is the minimum number you are willing to report your VCs (investors)\n",
    "    \n",
    "* The probability of a person responding to your request to volunteer to test your software is 0.03\n",
    "  * On average, out of ~100 people who receive your brochure by email, three will volunteer to test your software \n",
    "\n",
    "* You don't have a marketing database of potential users, and a company is charging you per email sent  \n",
    "* Package that includes 1,200 emails sent is within your budget, but what is the probability it will lead to at least 30 responses?\n",
    "\n",
    "  * What is the probability of having at least 30 people volunteering to test your software if you send the 1,200 emails to people?"
   ]
  },
  {
   "cell_type": "markdown",
   "metadata": {
    "slideshow": {
     "slide_type": "slide"
    }
   },
   "source": [
    "### Working with Non-Uniform Probabilities -- Example Cont'd\n",
    "\n",
    "* Strategy: \n",
    "  1. We encode those who volunteer as 1 and those who don't as 0\n",
    "  2. We generate a vector that represents your population\n",
    "    * Your population reflects the proportions of participants and non-participants observed in the population\n",
    "\n",
    "  2. Use `np.random.choice` to sample 1,200 people and estimate how many will participate in the experiment"
   ]
  },
  {
   "cell_type": "code",
   "execution_count": 29,
   "metadata": {
    "slideshow": {
     "slide_type": "slide"
    }
   },
   "outputs": [
    {
     "data": {
      "text/plain": [
       "[0, 0, 0, 0, 0, 1, 1, 1, 1, 1]"
      ]
     },
     "execution_count": 29,
     "metadata": {},
     "output_type": "execute_result"
    }
   ],
   "source": [
    "# We encode those who volunteer as 1 and those who don't as 0.\n",
    "# We generate a vector that represents the ratio of users likely to volunteer\n",
    "\n",
    "population = [0] * 5  + [1] * 5\n",
    "population"
   ]
  },
  {
   "cell_type": "code",
   "execution_count": 30,
   "metadata": {
    "slideshow": {
     "slide_type": "skip"
    }
   },
   "outputs": [
    {
     "data": {
      "text/plain": [
       "0"
      ]
     },
     "execution_count": 30,
     "metadata": {},
     "output_type": "execute_result"
    }
   ],
   "source": [
    "random.choice(population)"
   ]
  },
  {
   "cell_type": "code",
   "execution_count": 31,
   "metadata": {
    "slideshow": {
     "slide_type": "-"
    }
   },
   "outputs": [
    {
     "name": "stdout",
     "output_type": "stream",
     "text": [
      "select 0, which represents a Non-volunteer\n",
      "select 1, which represents a Volunteer\n",
      "select 1, which represents a Volunteer\n",
      "select 0, which represents a Non-volunteer\n"
     ]
    }
   ],
   "source": [
    "individuals = {1: \"Volunteer\", 0: \"Non-volunteer\"}\n",
    "for i in range(4):\n",
    "    val = random.choice(population)\n",
    "    print(f\"select {val}, which represents a {individuals[val]}\")"
   ]
  },
  {
   "cell_type": "code",
   "execution_count": 32,
   "metadata": {
    "slideshow": {
     "slide_type": "slide"
    }
   },
   "outputs": [],
   "source": [
    "# In 100 people, we have\n",
    "\n",
    "population = [0] * 97  + [1] * 3"
   ]
  },
  {
   "cell_type": "code",
   "execution_count": 33,
   "metadata": {
    "slideshow": {
     "slide_type": "-"
    }
   },
   "outputs": [],
   "source": [
    "# We make some assumption about the populations here\n",
    "# the code below can be easily written using random.choice method in the numpy package\n",
    "\n",
    "def get_random_sample (population, nb_samples):\n",
    "    nb_volunteers = 0 \n",
    "    for _ in range(nb_samples):\n",
    "        nb_volunteers += random.choice(population)\n",
    "    return nb_volunteers"
   ]
  },
  {
   "cell_type": "code",
   "execution_count": 34,
   "metadata": {
    "slideshow": {
     "slide_type": "-"
    }
   },
   "outputs": [
    {
     "data": {
      "text/plain": [
       "35"
      ]
     },
     "execution_count": 34,
     "metadata": {},
     "output_type": "execute_result"
    }
   ],
   "source": [
    "get_random_sample (population, 1200)"
   ]
  },
  {
   "cell_type": "code",
   "execution_count": 35,
   "metadata": {
    "slideshow": {
     "slide_type": "slide"
    }
   },
   "outputs": [],
   "source": [
    "# Recall that the probability is the long-run proportion with which a certain event will occur \n",
    "# You can repeat the experiment and count the number of times you have at least 30 volunteers, \n",
    "# i.e., satisfied with the outcome\n",
    "\n",
    "nb_satisfied = 0\n",
    "nb_trials = 10000\n",
    "nb_volunteers_per_exp = []\n",
    "for i in range(nb_trials):\n",
    "    nb_volunteers = get_random_sample(population, 1200)\n",
    "    nb_volunteers_per_exp.append(nb_volunteers)"
   ]
  },
  {
   "cell_type": "code",
   "execution_count": 36,
   "metadata": {},
   "outputs": [
    {
     "data": {
      "image/png": "[encoded data removed]",
      "text/plain": [
       "<Figure size 1400x600 with 1 Axes>"
      ]
     },
     "metadata": {},
     "output_type": "display_data"
    }
   ],
   "source": [
    "plt.figure(figsize=(14, 6))\n",
    "_ = plt.hist(nb_volunteers_per_exp, edgecolor='black', linewidth=1.2)"
   ]
  },
  {
   "cell_type": "code",
   "execution_count": 37,
   "metadata": {
    "slideshow": {
     "slide_type": "slide"
    }
   },
   "outputs": [
    {
     "name": "stdout",
     "output_type": "stream",
     "text": [
      "0.818\n"
     ]
    }
   ],
   "source": [
    "nb_satisfied = sum(np.array(nb_volunteers_per_exp) > 30)\n",
    "print(nb_satisfied/nb_trials)"
   ]
  },
  {
   "cell_type": "markdown",
   "metadata": {
    "slideshow": {
     "slide_type": "slide"
    }
   },
   "source": [
    "### Probability Models and Probability Distributions \n",
    "\n",
    "* There are much easier ways to compute this and other popular (canonical) problems\n",
    "\n",
    "* Numpy has parameterized functions, which, given a parameter, can easily compute the probability  of any outcome in the sample space\n",
    "\n",
    "  *  Those are called probability distributions"
   ]
  }
 ],
 "metadata": {
  "celltoolbar": "Slideshow",
  "hide_input": false,
  "kernelspec": {
   "display_name": "Python 3 (ipykernel)",
   "language": "python",
   "name": "python3"
  },
  "language_info": {
   "codemirror_mode": {
    "name": "ipython",
    "version": 3
   },
   "file_extension": ".py",
   "mimetype": "text/x-python",
   "name": "python",
   "nbconvert_exporter": "python",
   "pygments_lexer": "ipython3",
   "version": "3.10.13"
  }
 },
 "nbformat": 4,
 "nbformat_minor": 2
}
