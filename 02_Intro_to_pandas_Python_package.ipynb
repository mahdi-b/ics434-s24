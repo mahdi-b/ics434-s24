{
 "cells": [
  {
   "cell_type": "code",
   "execution_count": null,
   "metadata": {
    "slideshow": {
     "slide_type": "slide"
    }
   },
   "outputs": [],
   "source": [
    "!conda install -y matplotlib"
   ]
  },
  {
   "cell_type": "markdown",
   "metadata": {
    "slideshow": {
     "slide_type": "slide"
    }
   },
   "source": [
    "# ICS 434: DATA SCIENCE FUNDAMENTALS\n",
    "\n",
    "## Modules and Packages in Python\n",
    "\n",
    "---"
   ]
  },
  {
   "cell_type": "markdown",
   "metadata": {
    "colab_type": "text",
    "id": "uSIUeh_8YK9Q",
    "slideshow": {
     "slide_type": "slide"
    }
   },
   "source": [
    "### Introduction to the Pandas' Python Package\n",
    "\n",
    "* What are `Python` modules and packages? \n",
    "\n",
    "* Why are they useful? \n",
    "\n",
    "* What is Pandas?"
   ]
  },
  {
   "cell_type": "markdown",
   "metadata": {
    "colab_type": "text",
    "id": "OWPH6Yq7MmQM",
    "slideshow": {
     "slide_type": "slide"
    }
   },
   "source": [
    "### Python Modules and Packages\n",
    "\n",
    "\n",
    "* Python implementation of the DRY principle of software engineering  \n",
    "\n",
    "* Module: A module is a single Python file containing definitions and implementations, \n",
    "  * e.g., functions, classes, and variables. \n",
    "  * Used to organize code logically and reuse it across different projects. \n",
    "    * For example, a file math_operations.py containing various math functions can be a module.\n",
    "\n",
    "* Package: A package is a collection of Python modules organized in a directory structure. \n",
    "  * It includes an __init__.py file to indicate that the directory is a package. \n",
    "  * This structure allows for organizing modules into different namespaces. \n",
    "\n",
    "* A module is imported using the `import <module>` construct\n",
    "\n",
    "* The package's functionality can be accessed through the module name using the *dot* notaion\n",
    "\n",
    "* See for example <PATH_TO_PYTHON_ENVIRONMENT>/python3.9/site-packages/pandas/core/tools  \n"
   ]
  },
  {
   "cell_type": "markdown",
   "metadata": {
    "colab_type": "text",
    "id": "bVXOSbZZZw78",
    "slideshow": {
     "slide_type": "slide"
    }
   },
   "source": [
    "### Importing Python Modules\n",
    "\n",
    "\n",
    "* You must import the module into your file to be able to use it. \n",
    "\n",
    "* We can do this in two ways:\n",
    "\n",
    "__1.__ Import __all__ the funcitonality in a package, and with it all the functionality and definitions\n",
    "  * Keep the functionality bound to package name\n",
    "\n",
    "```python\n",
    ">>> import math\n",
    "```\n",
    "\n",
    "* To reference definitions or functionality after this import statement, we use *dot* notation. For example, if we wanted to access the `math` package's definition for *$\\pi$*  we would type:\n",
    "\n",
    "```python\n",
    ">>> math.pi\n",
    "3.141592653589793\n",
    "```\n"
   ]
  },
  {
   "cell_type": "code",
   "execution_count": 1,
   "metadata": {
    "slideshow": {
     "slide_type": "slide"
    }
   },
   "outputs": [
    {
     "data": {
      "text/plain": [
       "3.141592653589793"
      ]
     },
     "execution_count": 1,
     "metadata": {},
     "output_type": "execute_result"
    }
   ],
   "source": [
    "import math\n",
    "math.pi"
   ]
  },
  {
   "cell_type": "code",
   "execution_count": 2,
   "metadata": {
    "slideshow": {
     "slide_type": "slide"
    }
   },
   "outputs": [
    {
     "data": {
      "text/plain": [
       "24"
      ]
     },
     "execution_count": 2,
     "metadata": {},
     "output_type": "execute_result"
    }
   ],
   "source": [
    "# Computes n!\n",
    "math.factorial(4)"
   ]
  },
  {
   "cell_type": "markdown",
   "metadata": {
    "slideshow": {
     "slide_type": "slide"
    }
   },
   "source": [
    "### Importing Python Modules -- Cont'd\n",
    "\n",
    "__2.__ Only import some of the module's functionality \n",
    "\n",
    "* If we wanted to only import the `math` package's definition for *$\\pi$*  we would type \n",
    "\n",
    "```python\n",
    ">>> from math import pi\n",
    "```\n",
    "\n",
    "* Then to reference `pi` all we would type is:\n",
    "\n",
    "```python\n",
    ">>> pi\n",
    "3.141592653589793\n",
    "```"
   ]
  },
  {
   "cell_type": "markdown",
   "metadata": {
    "slideshow": {
     "slide_type": "skip"
    }
   },
   "source": [
    "### Importing Python Modules -- Don't\n",
    "\n",
    "* Do not use the `*` symbol to import all the functionality. E.g.:\n",
    "\n",
    "```python\n",
    "\n",
    "from math import *\n",
    "\n",
    "```\n",
    "\n",
    "* The `*` imports all the functionality into your workspace\n",
    "  * Functionality can be accessed without using the module name as a prefix. E.g.:\n",
    "\n",
    "```python\n",
    "r = 2\n",
    "c = 2 * pi * r\n",
    "```\n",
    "\n",
    "* The above:\n",
    "  * Pollutes your workspace\n",
    "  * Creates the potential for variable name clashes \n",
    "  * Makes your code harder to read"
   ]
  },
  {
   "cell_type": "markdown",
   "metadata": {
    "colab_type": "text",
    "id": "dmDMDLGuapty",
    "slideshow": {
     "slide_type": "slide"
    }
   },
   "source": [
    "### Providing a Package Alias\n",
    "\n",
    "* It's common to rename (alias) modules when importing them.\n",
    "    * Saving us some keystrokes when typing the module name\n",
    "* Ex.\n",
    "\n",
    "```python\n",
    "from matplotlib import pyplot as plt\n",
    "```\n",
    "- Accessing the functionality and definitions is done by using `plt` instead of `pyplot`\n",
    "\n",
    "```python\n",
    "plt.scatter(x, y)\n",
    "```\n"
   ]
  },
  {
   "cell_type": "markdown",
   "metadata": {
    "pycharm": {
     "name": "#%% md\n"
    },
    "slideshow": {
     "slide_type": "slide"
    }
   },
   "source": [
    "### Providing a Package Alias -- Cont'd\n",
    "\n",
    "\n",
    "* When using an alias, the expression `from X import Y as Z` is often shortened as `import X.Y as Z`. E.g.:\n",
    "\n",
    "```python\n",
    "import matplotlib.pyplot as plt\n",
    "```\n",
    "\n",
    "* Aliases are typically standardized by convention or established by the package developers. E.g.:\n",
    "    * Alias for `Pandas` is `pd`\n",
    "    * Alias for `NumPy` is `np`\n",
    "    * Alias for `Seaborn` is `sns`\n",
    "    * Alias for `pyplot` is `plt`\n",
    "\n",
    "\n",
    "* Import to stick to the those conventions\n",
    "\n"
   ]
  },
  {
   "cell_type": "code",
   "execution_count": 3,
   "metadata": {
    "pycharm": {
     "name": "#%%\n"
    },
    "slideshow": {
     "slide_type": "slide"
    }
   },
   "outputs": [
    {
     "data": {
      "text/html": [
       "<div>\n",
       "<style scoped>\n",
       "    .dataframe tbody tr th:only-of-type {\n",
       "        vertical-align: middle;\n",
       "    }\n",
       "\n",
       "    .dataframe tbody tr th {\n",
       "        vertical-align: top;\n",
       "    }\n",
       "\n",
       "    .dataframe thead th {\n",
       "        text-align: right;\n",
       "    }\n",
       "</style>\n",
       "<table border=\"1\" class=\"dataframe\">\n",
       "  <thead>\n",
       "    <tr style=\"text-align: right;\">\n",
       "      <th></th>\n",
       "      <th>A</th>\n",
       "      <th>B</th>\n",
       "    </tr>\n",
       "  </thead>\n",
       "  <tbody>\n",
       "    <tr>\n",
       "      <th>0</th>\n",
       "      <td>1</td>\n",
       "      <td>5</td>\n",
       "    </tr>\n",
       "    <tr>\n",
       "      <th>1</th>\n",
       "      <td>2</td>\n",
       "      <td>6</td>\n",
       "    </tr>\n",
       "    <tr>\n",
       "      <th>2</th>\n",
       "      <td>3</td>\n",
       "      <td>7</td>\n",
       "    </tr>\n",
       "    <tr>\n",
       "      <th>3</th>\n",
       "      <td>4</td>\n",
       "      <td>8</td>\n",
       "    </tr>\n",
       "  </tbody>\n",
       "</table>\n",
       "</div>"
      ],
      "text/plain": [
       "   A  B\n",
       "0  1  5\n",
       "1  2  6\n",
       "2  3  7\n",
       "3  4  8"
      ]
     },
     "execution_count": 3,
     "metadata": {},
     "output_type": "execute_result"
    }
   ],
   "source": [
    "import pandas as pd\n",
    "x = pd.DataFrame({\"A\": [1,2,3,4], \"B\":[5,6,7,8]})\n",
    "\n",
    "x"
   ]
  },
  {
   "cell_type": "code",
   "execution_count": 4,
   "metadata": {
    "slideshow": {
     "slide_type": "slide"
    }
   },
   "outputs": [
    {
     "data": {
      "text/plain": [
       "<BarContainer object of 4 artists>"
      ]
     },
     "execution_count": 4,
     "metadata": {},
     "output_type": "execute_result"
    },
    {
     "data": {
      "image/png": "[encoded data removed]",
      "text/plain": [
       "<Figure size 640x480 with 1 Axes>"
      ]
     },
     "metadata": {},
     "output_type": "display_data"
    }
   ],
   "source": [
    "import matplotlib.pyplot as plt\n",
    "plt.style.use('fivethirtyeight')\n",
    "plt.barh([\"Canada\", \"US\", \"Russia\", \"Spain\"], [71, 34, 35, 91])"
   ]
  },
  {
   "cell_type": "markdown",
   "metadata": {
    "slideshow": {
     "slide_type": "slide"
    }
   },
   "source": [
    "### Python Packages\n",
    "\n",
    "* It's often impractical to combine all the desired functionality into a single module (file)\n",
    "\n",
    "* Example: If you work for Hawaiian airlines in analytics, you may separate customer analytics and freight analytics into two different modules\n",
    "  * For convenience, you'd place both modules (python files) to live under the same folder (folder)\n",
    "\n",
    "* A package in Python is merely a directory that contains a collection of modules\n",
    "  * It includes an `__init__.py` file to indicate that the directory is a package.\n",
    "  * Can also contain additional files, such as doc, configuration, etc.\n",
    "  * A package can further be split into sub-packages\n",
    "    * Freight can, for instance, be split into two modules, commercial vs. personal modules. etc.\n",
    "\n",
    "* Top package is often called a library\n"
   ]
  },
  {
   "cell_type": "markdown",
   "metadata": {
    "slideshow": {
     "slide_type": "slide"
    }
   },
   "source": [
    "### Modules and Packages\n",
    "\n",
    "![](images/packages_modules.png)"
   ]
  },
  {
   "cell_type": "markdown",
   "metadata": {
    "colab_type": "text",
    "heading_collapsed": true,
    "id": "Oh7azfSVZTEn",
    "slideshow": {
     "slide_type": "slide"
    }
   },
   "source": [
    "### Types of Python Modules\n",
    "\n",
    "\n",
    "* There are 3 types of `Python` modules and packages:\n",
    "\n",
    "1. Distributed with `Python` but not available for use by default.\n",
    "  * Ex. `datetime`, `random`, `collections`, etc.\n",
    "  * Do not need to be installed but need to be imported before being used.\n",
    "  \n",
    "2.   Modules typically not included in the default Python installation but that are bundled in packages that can be installed by the Conda installer. Those are also not available by default.\n",
    "  * Ex. `numpy`, `pandas`, `matplotlib`, etc.\n",
    "  * If the minimal `Conda` install was selected, these may be installed manually\n",
    "\n",
    "3. Other modules in specialized packages must be installed manually using `Conda`.\n",
    "  * Ex. `BioPython`, `astropy`, `tensorflow`, etc\n",
    "\n"
   ]
  },
  {
   "cell_type": "markdown",
   "metadata": {
    "slideshow": {
     "slide_type": "slide"
    }
   },
   "source": [
    "### Example of Modules Distributed with Python\n",
    "\n",
    "```python\n",
    "import random \n",
    "\n",
    "my_list = [1,2,3,4,5,6,7,8]\n",
    "print(\"Before the shuffle, my_list is %s\" % my_list)\n",
    "random.shuffle(my_list)\n",
    "print(\"After the shuffle, my_list is %s\" % my_list)\n",
    "```\n",
    "\n",
    "\n"
   ]
  },
  {
   "cell_type": "code",
   "execution_count": 1,
   "metadata": {
    "slideshow": {
     "slide_type": "slide"
    }
   },
   "outputs": [
    {
     "name": "stdout",
     "output_type": "stream",
     "text": [
      "Before the shuffle, my_list is [1, 2, 3, 4, 5, 6, 7, 8]\n",
      "After the shuffle, my_list is [8, 7, 1, 4, 3, 6, 5, 2]\n"
     ]
    }
   ],
   "source": [
    "import random \n",
    "\n",
    "my_list = [1,2,3,4,5,6,7,8]\n",
    "print(\"Before the shuffle, my_list is %s\" % my_list)\n",
    "random.shuffle(my_list)\n",
    "print(\"After the shuffle, my_list is %s\" % my_list)"
   ]
  },
  {
   "cell_type": "markdown",
   "metadata": {
    "slideshow": {
     "slide_type": "slide"
    }
   },
   "source": [
    "### Pandas Example\n",
    "\n",
    "```python\n",
    "import pandas\n",
    "page = \"https://en.wikipedia.org/wiki/List_of_airline_codes\"\n",
    "airlines_info = pandas.read_html(page, header=0)[0]\n",
    "airlines_info[airlines_info[\"Call sign\"] == \"HAWAIIAN\"]\n",
    "```"
   ]
  },
  {
   "cell_type": "code",
   "execution_count": 2,
   "metadata": {
    "slideshow": {
     "slide_type": "slide"
    }
   },
   "outputs": [
    {
     "data": {
      "text/html": [
       "<div>\n",
       "<style scoped>\n",
       "    .dataframe tbody tr th:only-of-type {\n",
       "        vertical-align: middle;\n",
       "    }\n",
       "\n",
       "    .dataframe tbody tr th {\n",
       "        vertical-align: top;\n",
       "    }\n",
       "\n",
       "    .dataframe thead th {\n",
       "        text-align: right;\n",
       "    }\n",
       "</style>\n",
       "<table border=\"1\" class=\"dataframe\">\n",
       "  <thead>\n",
       "    <tr style=\"text-align: right;\">\n",
       "      <th></th>\n",
       "      <th>IATA</th>\n",
       "      <th>ICAO</th>\n",
       "      <th>Airline</th>\n",
       "      <th>Call sign</th>\n",
       "      <th>Country/Region</th>\n",
       "      <th>Comments</th>\n",
       "    </tr>\n",
       "  </thead>\n",
       "  <tbody>\n",
       "    <tr>\n",
       "      <th>3092</th>\n",
       "      <td>HA</td>\n",
       "      <td>HAL</td>\n",
       "      <td>Hawaiian Airlines</td>\n",
       "      <td>HAWAIIAN</td>\n",
       "      <td>United States</td>\n",
       "      <td>NaN</td>\n",
       "    </tr>\n",
       "  </tbody>\n",
       "</table>\n",
       "</div>"
      ],
      "text/plain": [
       "     IATA ICAO            Airline Call sign Country/Region Comments\n",
       "3092   HA  HAL  Hawaiian Airlines  HAWAIIAN  United States      NaN"
      ]
     },
     "execution_count": 2,
     "metadata": {},
     "output_type": "execute_result"
    }
   ],
   "source": [
    "import pandas \n",
    "page = \"https://en.wikipedia.org/wiki/List_of_airline_codes\"\n",
    "airlines_info = pandas.read_html(page, header=0)[0]\n",
    "airlines_info[airlines_info[\"Call sign\"] == \"HAWAIIAN\"]"
   ]
  },
  {
   "cell_type": "markdown",
   "metadata": {
    "slideshow": {
     "slide_type": "slide"
    }
   },
   "source": [
    "### Example of Installing a Specialized Package Using `conda`\n",
    "\n",
    "```python\n",
    "!conda install -y biopython\n",
    "```"
   ]
  },
  {
   "cell_type": "markdown",
   "metadata": {
    "slideshow": {
     "slide_type": "slide"
    }
   },
   "source": [
    "### Why Pandas\n",
    "\n",
    "* `Pandas` is the de facto package for data wrangling in Python\n",
    " * Provides functionality that covers the complete data wrangling workflow\n",
    "   * From reading and writing files in different formats to filling missing values and to merging datasets\n",
    " * Packages in basic statistical and vizualization functionality to facilitate the analysis\n"
   ]
  },
  {
   "cell_type": "markdown",
   "metadata": {
    "colab_type": "text",
    "id": "to-Kz3ouQw6c",
    "slideshow": {
     "slide_type": "slide"
    }
   },
   "source": [
    "### Simple Data Wrangling Scenario\n",
    "\n",
    "* Transforming your data with the intent of making it more suitable for analysis\n",
    "* Ex. if you're interested in displaying `avg` flight delays for a defunct airline\n",
    "* Hypothesis: do defunct companies have a worse delay track record? "
   ]
  },
  {
   "cell_type": "markdown",
   "metadata": {
    "colab_type": "text",
    "id": "to-Kz3ouQw6c",
    "slideshow": {
     "slide_type": "slide"
    }
   },
   "source": [
    "### Simple Data Wrangling Scenario - Steps\n",
    "\n",
    "1. Merge the wikipedia page earlier with delays database\n",
    "2. Drop any airline that is not defunct\n",
    "3. Remove airlines that do not have delay info (missing values)\n",
    "4. Normalize delay \n",
    "  * Some delay could be in minutes, others may be in hours\n",
    "  * Some delays may be written as 5h20m other may be 5h:20m or 5:20\n",
    "5. etc..."
   ]
  }
 ],
 "metadata": {
  "celltoolbar": "Slideshow",
  "colab": {
   "collapsed_sections": [],
   "name": "0_Intro_to_the_pandas_Python_package.ipynb",
   "provenance": [],
   "toc_visible": true,
   "version": "0.3.2"
  },
  "hide_input": false,
  "kernelspec": {
   "display_name": "Python 3 (ipykernel)",
   "language": "python",
   "name": "python3"
  },
  "language_info": {
   "codemirror_mode": {
    "name": "ipython",
    "version": 3
   },
   "file_extension": ".py",
   "mimetype": "text/x-python",
   "name": "python",
   "nbconvert_exporter": "python",
   "pygments_lexer": "ipython3",
   "version": "3.9.16"
  }
 },
 "nbformat": 4,
 "nbformat_minor": 1
}
