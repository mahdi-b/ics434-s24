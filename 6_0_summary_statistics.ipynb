{
 "cells": [
  {
   "cell_type": "markdown",
   "id": "708006c2-647b-420e-8dca-9b56b0a20f63",
   "metadata": {
    "slideshow": {
     "slide_type": "slide"
    }
   },
   "source": [
    "### 1. What Are Summary Statistics?\n",
    "\n",
    "* Definition: Summary statistics are _numbers that summarize_ and provide information about your data.\n",
    "* A statistic is a numerical value that is computed from a sample of data.\n",
    "  * It's used to infer or estimate characteristics of the larger population from which the sample is drawn.\n",
    "* Summary statistics typically include measures of central tendency, measures of variability, and quantiles.\n"
   ]
  },
  {
   "cell_type": "markdown",
   "id": "fcfd97b2-bcdf-47f5-bc6b-c9d5565acbba",
   "metadata": {
    "slideshow": {
     "slide_type": "slide"
    }
   },
   "source": [
    "### The Central Tendendcy\n",
    "* These are statistics that represent the center point or typical value of a dataset.\n",
    "  * They're like the 'average' values that summarize where most data points lie. \n",
    "  * The three main measures of central tendency are:\n",
    "* Mean: This is what most people think of as the average. \n",
    "  * For example, if your data is `[2, 3, 5]`, the mean is $(2+3+5)/3 = 3.33$.\n",
    "* Median: This is the middle value in your data when it is arranged in ascending order. \n",
    "  * For example, in the data `[2, 3, 5, 7]`, the median is $(3+5)/2 = 4$.\n",
    "* Mode: This is the number that appears most frequently in your data. \n",
    "  * For example, in `[1, 2, 2, 3]`, the mode is `2`."
   ]
  },
  {
   "cell_type": "markdown",
   "id": "1b7fed98-9965-4ff6-bef1-8d7d52148980",
   "metadata": {
    "slideshow": {
     "slide_type": "slide"
    }
   },
   "source": [
    "### Mean\n",
    "* The formula to compute the mean for a set of n values $x_1, x_2, ..., x_n$ is:\n",
    "$$ Mean = \\bar{x} = \\frac{\\sum_{i=1}^{n}x_i}{n}, $$ \n",
    "\n",
    "* The symbol  (pronounced “x-bar”) being used to represent the mean of a sample from a \n",
    "population.\n",
    "\n",
    "* This also a an esitmate (measure) of the mean.\n",
    "  * Why is it an esitmate? \n"
   ]
  },
  {
   "cell_type": "markdown",
   "id": "6d65e787-19e1-4bb5-8fef-e2c7ddf0e3c2",
   "metadata": {
    "slideshow": {
     "slide_type": "slide"
    }
   },
   "source": [
    "### Median\n",
    "\n",
    "* The median is referred to as a robust estimate of location since it is not influenced by \n",
    "extreme values (outliers) that could skew the results.\n",
    "  * An outlier is any value that is very  distant from the other values in a data set.\n",
    "    * Does not look like other values in the data.\n",
    "    * Ouliers may be erroneous or rare data.\n",
    "* Outliers can lead to a poor estimate of the mean\n",
    "  * While the  median will still be valid.\n"
   ]
  },
  {
   "cell_type": "markdown",
   "id": "1755aa9c-3258-426c-a848-1a768e8dbf30",
   "metadata": {
    "slideshow": {
     "slide_type": "slide"
    }
   },
   "source": [
    "#### Measures of Variability\n",
    "\n",
    "* Location is just one dimension in summarizing a feature.\n",
    "* Variability, also referred to as dispersion, measures whether the data values are tightly grouped or spread out.\n",
    "  * Variability is a very important concept in statistics, especially in hypothesis testing and machine learning.\n",
    "* These statistics describe the spread or dispersion of your data, showing how much the data points differ from each other and from the central tendency measures.\n",
    "\n",
    "* Range: difference between the highest and lowest values in your dataset.\n",
    "  * For example, in [1, 2, 3, 10], the range is 10 - 1 = 9.\n",
    "\n",
    "* Variance: how much the data points differ from the mean.\n",
    "  * It's the average of the squared differences from the Mean. \n",
    "\n",
    "* Standard Deviation: the square root of the variance.\n",
    "  * It's widely used because it is in the same units as the data, making it easier to interpret.\n",
    "  * A larger standard deviation means the data is more spread out."
   ]
  },
  {
   "cell_type": "markdown",
   "id": "023d73ba-bae9-4d02-a864-bbdddabdf435",
   "metadata": {
    "slideshow": {
     "slide_type": "slide"
    }
   },
   "source": [
    "### Mean Absolute Deviation\n",
    "$$\n",
    "\\begin{align*}\n",
    "\\text{Mean absolute deviation} &= \\frac{\\sum_{i=1}^{n}|x_i - \\bar{x}|}{n}\\\\  \n",
    "\\text{Variance} &= s^2 =  \\frac{\\sum_{i=1}^{n}(x_i - \\bar{x})^2}{n-1}\\\\\n",
    "\\text{Standard deviation} &= s =  \\sqrt{\\text{Variance}} \\\\\n",
    "\\text{Median Absolute deviation} &= Median(|x_1 - median|, |x_2 - median|, ... |x_n - median|)\n",
    "\\end{align*}\n",
    "$$\n",
    "\n",
    "* Of the above, only the median absolute deviation is not influenced by outliers and extreme values\n",
    "  *  $s$ and $s^2$ are especially sensitive to outliers.\n"
   ]
  },
  {
   "cell_type": "markdown",
   "id": "4a5257a9-30cd-4837-8250-47b855620732",
   "metadata": {
    "slideshow": {
     "slide_type": "slide"
    }
   },
   "source": [
    "### Order Statistics\n",
    "\n",
    "* A different approach to estimating dispersion is based on looking at the spread of the  sorted data. \n",
    "  * Statistics based on sorted (ranked) data are referred to as order statistics. \n",
    "* The most basic measure is the range: the difference between the largest and smallest numbers.\n",
    "\n",
    "\n",
    "\n"
   ]
  },
  {
   "cell_type": "markdown",
   "id": "4a766328-4ebb-4bd2-959a-65e89a508e06",
   "metadata": {
    "slideshow": {
     "slide_type": "slide"
    }
   },
   "source": [
    "### Quantiles\n",
    "\n",
    "* Quantiles are values that divide your data into equal parts.  \n",
    "\n",
    "* The most common quantiles are:\n",
    "* Quartiles: These split the data into four equal parts. \n",
    "  * The first quartile (Q1) is the median of the first half of the data.\n",
    "  * The second quartile (Q2) is the median of the total data\n",
    "  * The third quartile (Q3) is the median of the second half of the data.\n",
    "\n",
    "* Percentiles: These divide the data into 100 equal parts.\n",
    "  * the $P_{th}$ percentile is a value such that at least P percent of the values take on this value or less and at least (100 – P) percent of the values take on this value or more.\n",
    "\n",
    "  * For example, the 25th percentile is the point below which 25% of the sorted data lies.\n",
    "  * Thee median is the same thing as the 50th percentile.\n",
    "  * To find the 80th percentile:\n",
    "    - sort the data\n",
    "    - starting with the smallest value, proceed 80 percent of the way to the largest values\n",
    "\n"
   ]
  },
  {
   "cell_type": "code",
   "execution_count": null,
   "id": "af3550a6-d7b2-4142-b2d8-ed0b20bc07b2",
   "metadata": {
    "slideshow": {
     "slide_type": "slide"
    }
   },
   "outputs": [],
   "source": [
    "### The Interquartile Range (IQR)\n",
    "\n",
    "*  The difference between the 25th percentile and the 75th percentile.\n",
    "\n",
    "* Example: given dataset: {1,2,3,3,5,6,7,9}\n",
    "  * The 25th percentile is at 2.5, \n",
    "  * The 75th percentile is at 6.5\n",
    "  * So the interquartile range is 6.5 – 2.5 = 4. "
   ]
  },
  {
   "cell_type": "code",
   "execution_count": null,
   "id": "475b3ff7-f39c-4e56-a5ee-fbc3a6e8c05e",
   "metadata": {
    "slideshow": {
     "slide_type": "slide"
    }
   },
   "outputs": [],
   "source": [
    "### Why Do We Need Summary Statistics?\n",
    "\n",
    "* They provide a quick snapshot of the data\n",
    "* Understanding: They help in understanding the distribution, tendency, and spread of data.\n",
    "* Comparison: They make it easier to compare different datasets.\n"
   ]
  },
  {
   "cell_type": "code",
   "execution_count": 1,
   "id": "f0328d39-868b-4a54-8c78-2d3dc2b837dc",
   "metadata": {
    "slideshow": {
     "slide_type": "slide"
    }
   },
   "outputs": [],
   "source": [
    "import numpy as np\n",
    "import pandas as pd\n",
    "\n",
    "# Sample data\n",
    "data = np.array([5, 10, 15, 20, 25, 30, 10, 35, 40, 45, 50])\n",
    "\n",
    "# Creating a DataFrame\n",
    "df = pd.DataFrame(data, columns=['SomeCol'])\n",
    "\n",
    "# Calculating summary statistics\n",
    "mean_value = df['SomeCol'].mean()\n",
    "\n",
    "median_value = df['SomeCol'].median()\n",
    "mode_value = df['SomeCol'].mode()[0]\n",
    "std_dev = df['SomeCol'].std()\n",
    "variance = df['SomeCol'].var()\n"
   ]
  },
  {
   "cell_type": "code",
   "execution_count": 2,
   "id": "2088ef38-c7bc-4031-913f-20e28a6d363e",
   "metadata": {
    "slideshow": {
     "slide_type": "slide"
    }
   },
   "outputs": [
    {
     "name": "stdout",
     "output_type": "stream",
     "text": [
      "The mean is 25.90909090909091\n"
     ]
    }
   ],
   "source": [
    "print(f\"The mean is {mean_value}\")"
   ]
  },
  {
   "cell_type": "code",
   "execution_count": 3,
   "id": "54e3415f-b71c-499f-bb54-82969724f45a",
   "metadata": {
    "slideshow": {
     "slide_type": "slide"
    }
   },
   "outputs": [
    {
     "name": "stdout",
     "output_type": "stream",
     "text": [
      "The median is 25.0\n"
     ]
    }
   ],
   "source": [
    "print(f\"The median is {median_value}\")"
   ]
  },
  {
   "cell_type": "code",
   "execution_count": 4,
   "id": "7002d7e1-d9e3-4397-9865-42b0e22f4583",
   "metadata": {
    "slideshow": {
     "slide_type": "slide"
    }
   },
   "outputs": [
    {
     "name": "stdout",
     "output_type": "stream",
     "text": [
      "The 'mode is 10\n"
     ]
    }
   ],
   "source": [
    "print(f\"The 'mode is {mode_value}\")"
   ]
  },
  {
   "cell_type": "code",
   "execution_count": 5,
   "id": "ed3f3068-9491-496a-9a3d-bfdd12306967",
   "metadata": {
    "slideshow": {
     "slide_type": "slide"
    }
   },
   "outputs": [
    {
     "name": "stdout",
     "output_type": "stream",
     "text": [
      "The standard deviation is 15.300029708824395\n"
     ]
    }
   ],
   "source": [
    "print(f\"The standard deviation is {std_dev}\")"
   ]
  },
  {
   "cell_type": "code",
   "execution_count": 6,
   "id": "cf7d9882-043b-49c1-9727-e7af6cd51dfa",
   "metadata": {
    "slideshow": {
     "slide_type": "slide"
    }
   },
   "outputs": [
    {
     "name": "stdout",
     "output_type": "stream",
     "text": [
      "The variance deviation is 15.300029708824395\n"
     ]
    }
   ],
   "source": [
    "print(f\"The variance deviation is {std_dev}\")"
   ]
  },
  {
   "cell_type": "markdown",
   "id": "bf840d88",
   "metadata": {},
   "source": [
    "# A/B Testing\n",
    "\n",
    "Have two version of a webpage and a percentage of user will go to A and a percentage will go to B.\n",
    "\n",
    "Analyze result to see which webpage led to better result.\n",
    "- online revenue\n"
   ]
  }
 ],
 "metadata": {
  "celltoolbar": "Slideshow",
  "kernelspec": {
   "display_name": "Python 3 (ipykernel)",
   "language": "python",
   "name": "python3"
  },
  "language_info": {
   "codemirror_mode": {
    "name": "ipython",
    "version": 3
   },
   "file_extension": ".py",
   "mimetype": "text/x-python",
   "name": "python",
   "nbconvert_exporter": "python",
   "pygments_lexer": "ipython3",
   "version": "3.9.16"
  }
 },
 "nbformat": 4,
 "nbformat_minor": 5
}
